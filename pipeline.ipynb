{
 "cells": [
  {
   "cell_type": "markdown",
   "metadata": {},
   "source": [
    "Load modules"
   ]
  },
  {
   "cell_type": "code",
   "execution_count": 1,
   "metadata": {},
   "outputs": [],
   "source": [
    "import numpy as np\n",
    "import pandas as pd\n",
    "\n",
    "# Our modules\n",
    "from utils.minmax_hart_norm import minmax_hart_convert, minmax_hart_revert"
   ]
  },
  {
   "cell_type": "markdown",
   "metadata": {},
   "source": [
    "csv file load"
   ]
  },
  {
   "cell_type": "code",
   "execution_count": 2,
   "metadata": {},
   "outputs": [
    {
     "name": "stdout",
     "output_type": "stream",
     "text": [
      "(68,)\n"
     ]
    }
   ],
   "source": [
    "csv_file = pd.read_csv('train_y_wh.csv')\n",
    "csv_arr = csv_file.to_numpy()[0, :-2]\n",
    "\n",
    "print(csv_arr.shape)"
   ]
  },
  {
   "cell_type": "code",
   "execution_count": 3,
   "metadata": {},
   "outputs": [
    {
     "name": "stdout",
     "output_type": "stream",
     "text": [
      "(1,)\n",
      "(1,)\n"
     ]
    }
   ],
   "source": [
    "width = csv_file.to_numpy()[0, -2, np.newaxis]\n",
    "height = csv_file.to_numpy()[0, -1, np.newaxis]\n",
    "\n",
    "print(width.shape)\n",
    "print(height.shape)"
   ]
  },
  {
   "cell_type": "markdown",
   "metadata": {},
   "source": [
    "Convert"
   ]
  },
  {
   "cell_type": "code",
   "execution_count": 4,
   "metadata": {},
   "outputs": [],
   "source": [
    "noise_arr = np.load('utils/landmark_std.npy')"
   ]
  },
  {
   "cell_type": "code",
   "execution_count": 17,
   "metadata": {},
   "outputs": [
    {
     "name": "stdout",
     "output_type": "stream",
     "text": [
      "alpha : 10000\n"
     ]
    }
   ],
   "source": [
    "converted_arr, mat_calc, df_y = minmax_hart_convert(csv_arr, width, height, noise_arr=None,\\\n",
    "                                                    parm=None, noise=False)\n",
    "converted_arr_2, mat_calc_2, df_y_2 = minmax_hart_convert(csv_arr, width, height, noise_arr=noise_arr,\\\n",
    "                                                          parm=None, noise=True, alpha=10000)"
   ]
  },
  {
   "cell_type": "code",
   "execution_count": 19,
   "metadata": {},
   "outputs": [
    {
     "data": {
      "text/plain": [
       "array([ 1.26780769e-01,  1.26978282e+00, -2.55394059e-01,  3.16235953e-01,\n",
       "       -3.04797830e-01, -1.36499685e-01, -1.31394246e-01, -1.03888090e-02,\n",
       "       -2.76319116e-01, -3.71431474e-01, -1.76336884e-01, -1.83474117e-01,\n",
       "       -5.97683700e-02, -1.92665528e-03,  9.47791312e-02, -1.39965363e-01,\n",
       "       -1.47098347e-01, -2.76945285e-01,  2.00443263e-01, -1.43926710e-01,\n",
       "        4.04007800e-02, -2.03467777e-01,  6.87310384e-02, -1.92097909e-01,\n",
       "        1.34792120e-01, -1.29124412e-01,  1.39545011e-02, -2.89182846e-01,\n",
       "       -1.15948833e-01, -1.49970248e-01, -3.87319359e-02, -3.06933489e-01,\n",
       "        1.64961011e-03, -3.16535753e-01, -1.54831628e-02, -2.05962628e-01,\n",
       "       -3.55624127e-02, -1.21046194e-01, -1.44803105e-01, -1.23340825e-01,\n",
       "       -7.79019651e-02, -1.56815538e-01, -1.33355568e-01, -2.92045995e-01,\n",
       "       -2.81147357e-02, -3.80553226e-02, -6.25944908e-03,  1.48595202e+00,\n",
       "        7.28854174e-05,  6.16045500e-01,  1.82889723e-01, -4.19409016e-02,\n",
       "        1.22798451e-01, -2.43474407e-01,  1.71784511e-01, -2.90898984e-01,\n",
       "        1.14651244e-01, -2.41207585e-01,  2.19233302e-01, -3.35863108e-01,\n",
       "        5.11224465e-02, -4.68000183e-01,  1.02490916e-01, -1.24196243e-01,\n",
       "        1.50179265e-01,  3.19410892e-01,  1.50514732e-01,  1.52728450e+00])"
      ]
     },
     "execution_count": 19,
     "metadata": {},
     "output_type": "execute_result"
    }
   ],
   "source": [
    "converted_arr_2-converted_arr"
   ]
  },
  {
   "cell_type": "markdown",
   "metadata": {},
   "source": [
    "Revert"
   ]
  },
  {
   "cell_type": "code",
   "execution_count": 9,
   "metadata": {},
   "outputs": [],
   "source": [
    "reverted_arr = minmax_hart_revert(converted_arr, mat_calc, width, height)\n",
    "reverted_arr_2 = minmax_hart_revert(converted_arr_2, mat_calc_2, width, height)"
   ]
  },
  {
   "cell_type": "code",
   "execution_count": 10,
   "metadata": {},
   "outputs": [
    {
     "data": {
      "text/plain": [
       "array([1269.,  774.,  817.,  857.,  656., 1002.,  916., 1020.,  639.,\n",
       "       1159.,  711., 1090., 1175.,  990., 1283., 1140.,  963., 1149.,\n",
       "       1267., 1195., 1293., 1271., 1232., 1204., 1283., 1360., 1273.,\n",
       "       1368., 1216., 1483., 1263., 1444., 1228., 1495., 1234., 1607.,\n",
       "       1212., 1648., 1183., 1656.,  737., 1401., 1059., 1312., 1065.,\n",
       "       1358., 1328.,  664., 1316.,  841., 1438., 1104., 1336., 1206.,\n",
       "       1354., 1289., 1371., 1338., 1310., 1395., 1364., 1476., 1307.,\n",
       "       1517., 1299., 1617., 1257., 1690.])"
      ]
     },
     "execution_count": 10,
     "metadata": {},
     "output_type": "execute_result"
    }
   ],
   "source": [
    "reverted_arr"
   ]
  },
  {
   "cell_type": "markdown",
   "metadata": {},
   "source": [
    "---\n",
    "확인"
   ]
  },
  {
   "cell_type": "code",
   "execution_count": 11,
   "metadata": {},
   "outputs": [
    {
     "name": "stdout",
     "output_type": "stream",
     "text": [
      "2.2737367544323206e-13\n",
      "0.0\n"
     ]
    }
   ],
   "source": [
    "print(np.max((reverted_arr - csv_arr)))\n",
    "print(np.min((reverted_arr - csv_arr)))"
   ]
  },
  {
   "cell_type": "code",
   "execution_count": 12,
   "metadata": {},
   "outputs": [
    {
     "name": "stdout",
     "output_type": "stream",
     "text": [
      "1690.0000000000002\n",
      "639.0\n",
      "1690.0\n",
      "639.0\n"
     ]
    }
   ],
   "source": [
    "print(np.max((reverted_arr)))\n",
    "print(np.min((reverted_arr)))\n",
    "print(np.max((csv_arr)))\n",
    "print(np.min((csv_arr)))"
   ]
  },
  {
   "cell_type": "code",
   "execution_count": 10,
   "metadata": {},
   "outputs": [
    {
     "name": "stdout",
     "output_type": "stream",
     "text": [
      "(70,)\n"
     ]
    }
   ],
   "source": [
    "reverted_arr_2 = np.concatenate((reverted_arr, width, height), axis=0)\n",
    "df_y2 = np.concatenate((df_y, width, height), axis=0)\n",
    "\n",
    "print(reverted_arr_2.shape)"
   ]
  },
  {
   "cell_type": "code",
   "execution_count": 11,
   "metadata": {},
   "outputs": [
    {
     "data": {
      "text/plain": [
       "array([1269.,  774.,  817.,  857.,  656., 1002.,  916., 1020.,  639.,\n",
       "       1159.,  711., 1090., 1175.,  990., 1283., 1140.,  963., 1149.,\n",
       "       1267., 1195., 1293., 1271., 1232., 1204., 1283., 1360., 1273.,\n",
       "       1368., 1216., 1483., 1263., 1444., 1228., 1495., 1234., 1607.,\n",
       "       1212., 1648., 1183., 1656.,  737., 1401., 1059., 1312., 1065.,\n",
       "       1358., 1328.,  664., 1316.,  841., 1438., 1104., 1336., 1206.,\n",
       "       1354., 1289., 1371., 1338., 1310., 1395., 1364., 1476., 1307.,\n",
       "       1517., 1299., 1617., 1257., 1690., 2010., 1670.])"
      ]
     },
     "execution_count": 11,
     "metadata": {},
     "output_type": "execute_result"
    }
   ],
   "source": [
    "reverted_arr_2"
   ]
  },
  {
   "cell_type": "markdown",
   "metadata": {},
   "source": [
    "---\n",
    "한번에 변환"
   ]
  },
  {
   "cell_type": "code",
   "execution_count": 12,
   "metadata": {},
   "outputs": [],
   "source": [
    "x_arr       = []\n",
    "y_arr       = []\n",
    "mat_array   = []\n",
    "\n",
    "\n",
    "for i in range(len(csv_file)):\n",
    "# for i in range(5):\n",
    "    csv_arr = csv_file.to_numpy()[i, :-2]\n",
    "    converted_arr, mat_calc, df_y = minmax_hart_convert(csv_arr, width, height, parm = None)\n",
    "    \n",
    "    x_arr.append(converted_arr)\n",
    "    y_arr.append(df_y)\n",
    "    mat_array.append(mat_calc)\n",
    "    \n",
    "a = pd.DataFrame(np.array(x_arr))\n",
    "b = pd.DataFrame(np.array(y_arr))\n",
    "\n",
    "a.columns = csv_file.columns[:-2]\n",
    "b.columns = csv_file.columns[:-2]\n",
    "\n",
    "a.to_csv('./train_x_wh_hart.csv', index=False)\n",
    "b.to_csv('./train_y_wh_hart.csv', index=False)\n",
    "\n",
    "np.save('./mat_calc.npy', mat_calc)"
   ]
  }
 ],
 "metadata": {
  "kernelspec": {
   "display_name": "base",
   "language": "python",
   "name": "python3"
  },
  "language_info": {
   "codemirror_mode": {
    "name": "ipython",
    "version": 3
   },
   "file_extension": ".py",
   "mimetype": "text/x-python",
   "name": "python",
   "nbconvert_exporter": "python",
   "pygments_lexer": "ipython3",
   "version": "3.10.11"
  }
 },
 "nbformat": 4,
 "nbformat_minor": 2
}
