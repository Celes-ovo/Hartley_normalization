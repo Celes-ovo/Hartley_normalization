{
 "cells": [
  {
   "cell_type": "markdown",
   "metadata": {},
   "source": [
    "Load modules"
   ]
  },
  {
   "cell_type": "code",
   "execution_count": 1,
   "metadata": {},
   "outputs": [],
   "source": [
    "import numpy as np\n",
    "import pandas as pd\n",
    "\n",
    "# Our modules\n",
    "from utils.minmax_hart_norm import minmax_hart_convert, minmax_hart_revert"
   ]
  },
  {
   "cell_type": "markdown",
   "metadata": {},
   "source": [
    "csv file load"
   ]
  },
  {
   "cell_type": "code",
   "execution_count": 2,
   "metadata": {},
   "outputs": [
    {
     "name": "stdout",
     "output_type": "stream",
     "text": [
      "(68,)\n"
     ]
    }
   ],
   "source": [
    "csv_file = pd.read_csv('train_y_wh.csv')\n",
    "csv_arr = csv_file.to_numpy()[0, :-2]\n",
    "\n",
    "print(csv_arr.shape)"
   ]
  },
  {
   "cell_type": "code",
   "execution_count": 3,
   "metadata": {},
   "outputs": [
    {
     "name": "stdout",
     "output_type": "stream",
     "text": [
      "(1,)\n",
      "(1,)\n"
     ]
    }
   ],
   "source": [
    "width = csv_file.to_numpy()[0, -2, np.newaxis]\n",
    "height = csv_file.to_numpy()[0, -1, np.newaxis]\n",
    "\n",
    "print(width.shape)\n",
    "print(height.shape)"
   ]
  },
  {
   "cell_type": "markdown",
   "metadata": {},
   "source": [
    "Convert"
   ]
  },
  {
   "cell_type": "code",
   "execution_count": 4,
   "metadata": {},
   "outputs": [],
   "source": [
    "converted_arr, mat_calc, df_y = minmax_hart_convert(csv_arr, width, height, parm = None)"
   ]
  },
  {
   "cell_type": "code",
   "execution_count": 5,
   "metadata": {},
   "outputs": [
    {
     "data": {
      "text/plain": [
       "numpy.ndarray"
      ]
     },
     "execution_count": 5,
     "metadata": {},
     "output_type": "execute_result"
    }
   ],
   "source": [
    "type(mat_calc)"
   ]
  },
  {
   "cell_type": "markdown",
   "metadata": {},
   "source": [
    "Revert"
   ]
  },
  {
   "cell_type": "code",
   "execution_count": 6,
   "metadata": {},
   "outputs": [
    {
     "name": "stdout",
     "output_type": "stream",
     "text": [
      "(68,)\n"
     ]
    }
   ],
   "source": [
    "reverted_arr = minmax_hart_revert(converted_arr, mat_calc, width, height)"
   ]
  },
  {
   "cell_type": "code",
   "execution_count": 7,
   "metadata": {},
   "outputs": [
    {
     "data": {
      "text/plain": [
       "array([1269.,  774.,  817.,  857.,  656., 1002.,  916., 1020.,  639.,\n",
       "       1159.,  711., 1090., 1175.,  990., 1283., 1140.,  963., 1149.,\n",
       "       1267., 1195., 1293., 1271., 1232., 1204., 1283., 1360., 1273.,\n",
       "       1368., 1216., 1483., 1263., 1444., 1228., 1495., 1234., 1607.,\n",
       "       1212., 1648., 1183., 1656.,  737., 1401., 1059., 1312., 1065.,\n",
       "       1358., 1328.,  664., 1316.,  841., 1438., 1104., 1336., 1206.,\n",
       "       1354., 1289., 1371., 1338., 1310., 1395., 1364., 1476., 1307.,\n",
       "       1517., 1299., 1617., 1257., 1690.])"
      ]
     },
     "execution_count": 7,
     "metadata": {},
     "output_type": "execute_result"
    }
   ],
   "source": [
    "reverted_arr"
   ]
  },
  {
   "cell_type": "markdown",
   "metadata": {},
   "source": [
    "---\n",
    "확인"
   ]
  },
  {
   "cell_type": "code",
   "execution_count": 8,
   "metadata": {},
   "outputs": [
    {
     "name": "stdout",
     "output_type": "stream",
     "text": [
      "2.2737367544323206e-13\n",
      "0.0\n"
     ]
    }
   ],
   "source": [
    "print(np.max((reverted_arr - csv_arr)))\n",
    "print(np.min((reverted_arr - csv_arr)))"
   ]
  },
  {
   "cell_type": "code",
   "execution_count": 9,
   "metadata": {},
   "outputs": [
    {
     "name": "stdout",
     "output_type": "stream",
     "text": [
      "1690.0000000000002\n",
      "639.0\n",
      "1690.0\n",
      "639.0\n"
     ]
    }
   ],
   "source": [
    "print(np.max((reverted_arr)))\n",
    "print(np.min((reverted_arr)))\n",
    "print(np.max((csv_arr)))\n",
    "print(np.min((csv_arr)))"
   ]
  },
  {
   "cell_type": "code",
   "execution_count": 10,
   "metadata": {},
   "outputs": [
    {
     "name": "stdout",
     "output_type": "stream",
     "text": [
      "(70,)\n"
     ]
    }
   ],
   "source": [
    "reverted_arr_2 = np.concatenate((reverted_arr, width, height), axis=0)\n",
    "df_y2 = np.concatenate((df_y, width, height), axis=0)\n",
    "\n",
    "print(reverted_arr_2.shape)"
   ]
  },
  {
   "cell_type": "code",
   "execution_count": 11,
   "metadata": {},
   "outputs": [
    {
     "data": {
      "text/plain": [
       "array([1269.,  774.,  817.,  857.,  656., 1002.,  916., 1020.,  639.,\n",
       "       1159.,  711., 1090., 1175.,  990., 1283., 1140.,  963., 1149.,\n",
       "       1267., 1195., 1293., 1271., 1232., 1204., 1283., 1360., 1273.,\n",
       "       1368., 1216., 1483., 1263., 1444., 1228., 1495., 1234., 1607.,\n",
       "       1212., 1648., 1183., 1656.,  737., 1401., 1059., 1312., 1065.,\n",
       "       1358., 1328.,  664., 1316.,  841., 1438., 1104., 1336., 1206.,\n",
       "       1354., 1289., 1371., 1338., 1310., 1395., 1364., 1476., 1307.,\n",
       "       1517., 1299., 1617., 1257., 1690., 2010., 1670.])"
      ]
     },
     "execution_count": 11,
     "metadata": {},
     "output_type": "execute_result"
    }
   ],
   "source": [
    "reverted_arr_2"
   ]
  },
  {
   "cell_type": "markdown",
   "metadata": {},
   "source": [
    "---\n",
    "한번에 변환"
   ]
  },
  {
   "cell_type": "code",
   "execution_count": 12,
   "metadata": {},
   "outputs": [],
   "source": [
    "x_arr = []\n",
    "y_arr = []\n",
    "\n",
    "\n",
    "for i in range(len(csv_file)):\n",
    "# for i in range(5):\n",
    "    csv_arr = csv_file.to_numpy()[i, :-2]\n",
    "    converted_arr, mat_calc, df_y = minmax_hart_convert(csv_arr, width, height, parm = None)\n",
    "    \n",
    "    x_arr.append(converted_arr)\n",
    "    y_arr.append(df_y)\n",
    "    \n",
    "a = pd.DataFrame(np.array(x_arr))\n",
    "b = pd.DataFrame(np.array(y_arr))\n",
    "\n",
    "a.columns = csv_file.columns[:-2]\n",
    "b.columns = csv_file.columns[:-2]\n",
    "\n",
    "a.to_csv('./train_x_wh_hart.csv', index=False)\n",
    "b.to_csv('./train_y_wh_hart.csv', index=False)\n",
    "\n",
    "np.save('./mat_calc.npy', mat_calc)"
   ]
  }
 ],
 "metadata": {
  "kernelspec": {
   "display_name": "base",
   "language": "python",
   "name": "python3"
  },
  "language_info": {
   "codemirror_mode": {
    "name": "ipython",
    "version": 3
   },
   "file_extension": ".py",
   "mimetype": "text/x-python",
   "name": "python",
   "nbconvert_exporter": "python",
   "pygments_lexer": "ipython3",
   "version": "3.9.19"
  }
 },
 "nbformat": 4,
 "nbformat_minor": 2
}
