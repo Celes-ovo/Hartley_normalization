{
 "cells": [
  {
   "cell_type": "markdown",
   "metadata": {},
   "source": [
    "Load modules"
   ]
  },
  {
   "cell_type": "code",
   "execution_count": 3,
   "metadata": {},
   "outputs": [],
   "source": [
    "import numpy as np\n",
    "import pandas as pd\n",
    "\n",
    "# Our modules\n",
    "from utils.minmax_hart_norm import minmax_hart_convert, minmax_hart_revert"
   ]
  },
  {
   "cell_type": "markdown",
   "metadata": {},
   "source": [
    "csv file load"
   ]
  },
  {
   "cell_type": "code",
   "execution_count": 4,
   "metadata": {},
   "outputs": [
    {
     "name": "stdout",
     "output_type": "stream",
     "text": [
      "(4395, 68)\n"
     ]
    }
   ],
   "source": [
    "csv_file = pd.read_csv('train_x_wh.csv')\n",
    "csv_arr = csv_file.to_numpy()[:, :-2]\n",
    "\n",
    "print(csv_arr.shape)"
   ]
  },
  {
   "cell_type": "code",
   "execution_count": 5,
   "metadata": {},
   "outputs": [
    {
     "name": "stdout",
     "output_type": "stream",
     "text": [
      "(4395, 1)\n",
      "(4395, 1)\n"
     ]
    }
   ],
   "source": [
    "width = csv_file.to_numpy()[:, -2, np.newaxis]\n",
    "height = csv_file.to_numpy()[:, -1, np.newaxis]\n",
    "\n",
    "print(width.shape)\n",
    "print(height.shape)"
   ]
  },
  {
   "cell_type": "markdown",
   "metadata": {},
   "source": [
    "Convert"
   ]
  },
  {
   "cell_type": "code",
   "execution_count": 6,
   "metadata": {},
   "outputs": [
    {
     "name": "stdout",
     "output_type": "stream",
     "text": [
      "전체 길이 : 4395\n"
     ]
    },
    {
     "name": "stderr",
     "output_type": "stream",
     "text": [
      "/mnt/c/Users/Sangmin Kim/workspace/Github/Hartley_normalization/utils/utils_common.py:44: RuntimeWarning: divide by zero encountered in divide\n",
      "  mat_calc = np.array([[(1/s_fact), 0, -1*(1/s_fact)*x_mean], [0, (1/s_fact), -1*(1/s_fact)*y_mean], [0, 0, 1]])\n",
      "/mnt/c/Users/Sangmin Kim/workspace/Github/Hartley_normalization/utils/utils_common.py:44: RuntimeWarning: invalid value encountered in scalar multiply\n",
      "  mat_calc = np.array([[(1/s_fact), 0, -1*(1/s_fact)*x_mean], [0, (1/s_fact), -1*(1/s_fact)*y_mean], [0, 0, 1]])\n",
      "/mnt/c/Users/Sangmin Kim/workspace/Github/Hartley_normalization/utils/utils_common.py:46: RuntimeWarning: invalid value encountered in matmul\n",
      "  output = (mat_calc @ (np.array([x, y, 1]).T))\n"
     ]
    }
   ],
   "source": [
    "converted_arr, output_arr, mat_calc, df_y =\\\n",
    "    minmax_hart_convert(csv_arr, width=width, height=height, parm=0)"
   ]
  },
  {
   "cell_type": "code",
   "execution_count": 7,
   "metadata": {},
   "outputs": [
    {
     "data": {
      "text/plain": [
       "array([[False, False, False, ..., False, False, False],\n",
       "       [False, False, False, ..., False, False, False],\n",
       "       [False, False, False, ..., False, False, False],\n",
       "       ...,\n",
       "       [False, False, False, ..., False, False, False],\n",
       "       [False, False, False, ..., False, False, False],\n",
       "       [False, False, False, ..., False, False, False]])"
      ]
     },
     "execution_count": 7,
     "metadata": {},
     "output_type": "execute_result"
    }
   ],
   "source": [
    "np.isnan(converted_arr)"
   ]
  },
  {
   "cell_type": "code",
   "execution_count": 8,
   "metadata": {},
   "outputs": [
    {
     "name": "stdout",
     "output_type": "stream",
     "text": [
      "nan\n",
      "nan\n",
      "1.4474248927038627\n",
      "0.0\n"
     ]
    }
   ],
   "source": [
    "print(np.max((converted_arr)))\n",
    "print(np.min((converted_arr)))\n",
    "print(np.max((df_y)))\n",
    "print(np.min((df_y)))"
   ]
  },
  {
   "cell_type": "code",
   "execution_count": 10,
   "metadata": {},
   "outputs": [],
   "source": [
    "# pd.DataFrame(converted_arr).to_csv('train_x.csv')\n",
    "# pd.DataFrame(df_y).to_csv('train_y.csv')"
   ]
  },
  {
   "cell_type": "markdown",
   "metadata": {},
   "source": [
    "Revert"
   ]
  },
  {
   "cell_type": "code",
   "execution_count": 6,
   "metadata": {},
   "outputs": [
    {
     "name": "stdout",
     "output_type": "stream",
     "text": [
      "(879, 68)\n"
     ]
    }
   ],
   "source": [
    "reverted_arr = minmax_hart_revert(converted_arr, mat_calc, width, height, output_arr)"
   ]
  },
  {
   "cell_type": "markdown",
   "metadata": {},
   "source": [
    "---\n",
    "확인"
   ]
  },
  {
   "cell_type": "code",
   "execution_count": 7,
   "metadata": {},
   "outputs": [
    {
     "name": "stdout",
     "output_type": "stream",
     "text": [
      "9.094947017729282e-13\n",
      "-9.094947017729282e-13\n"
     ]
    }
   ],
   "source": [
    "print(np.max((reverted_arr - df_y)))\n",
    "print(np.min((reverted_arr - df_y)))"
   ]
  },
  {
   "cell_type": "code",
   "execution_count": 8,
   "metadata": {},
   "outputs": [
    {
     "name": "stdout",
     "output_type": "stream",
     "text": [
      "3151.0\n",
      "0.0\n",
      "3151.0\n",
      "0.0\n"
     ]
    }
   ],
   "source": [
    "print(np.max((reverted_arr)))\n",
    "print(np.min((reverted_arr)))\n",
    "print(np.max((df_y)))\n",
    "print(np.min((df_y)))"
   ]
  },
  {
   "cell_type": "code",
   "execution_count": 9,
   "metadata": {},
   "outputs": [
    {
     "name": "stdout",
     "output_type": "stream",
     "text": [
      "(879, 70)\n"
     ]
    }
   ],
   "source": [
    "reverted_arr_2 = np.concatenate((reverted_arr, width, height), axis=1)\n",
    "df_y2 = np.concatenate((df_y, width, height), axis=1)\n",
    "\n",
    "print(reverted_arr_2.shape)"
   ]
  },
  {
   "cell_type": "code",
   "execution_count": 10,
   "metadata": {},
   "outputs": [],
   "source": [
    "# pd.DataFrame(reverted_arr_2).to_csv('train_x.csv')\n",
    "# pd.DataFrame(df_y2).to_csv('train_y.csv')"
   ]
  }
 ],
 "metadata": {
  "kernelspec": {
   "display_name": "base",
   "language": "python",
   "name": "python3"
  },
  "language_info": {
   "codemirror_mode": {
    "name": "ipython",
    "version": 3
   },
   "file_extension": ".py",
   "mimetype": "text/x-python",
   "name": "python",
   "nbconvert_exporter": "python",
   "pygments_lexer": "ipython3",
   "version": "3.10.11"
  }
 },
 "nbformat": 4,
 "nbformat_minor": 2
}
